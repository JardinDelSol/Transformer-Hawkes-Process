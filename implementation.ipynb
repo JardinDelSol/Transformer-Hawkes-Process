{
 "cells": [
  {
   "cell_type": "code",
   "execution_count": 2,
   "metadata": {},
   "outputs": [],
   "source": [
    "import torch\n",
    "import numpy as np\n",
    "import torch.nn as nn\n",
    "from transformer.Modules import ScaledDotProductAttention\n",
    "from transformer.SubLayers import MultiHeadAttention, PositionwiseFeedForward\n"
   ]
  },
  {
   "cell_type": "code",
   "execution_count": null,
   "metadata": {},
   "outputs": [],
   "source": [
    "class AttnBlock(nn.Module):\n",
    "\n",
    "    def __init__(self):\n",
    "        super(AttnBlock, self).__init__()\n",
    "        self.attn = MultiHeadAttention()\n",
    "        self.pff = PositionwiseFeedForward()\n",
    "\n",
    "    def forward(self, X):\n",
    "        S, attn = self.attn(X)\n",
    "        H = self.pff(S)\n",
    "\n",
    "        return H, attn"
   ]
  },
  {
   "cell_type": "code",
   "execution_count": null,
   "metadata": {},
   "outputs": [],
   "source": [
    "class parameters(nn.Module):\n",
    "    def __init__(self):\n",
    "        self.alpha = nn.parameter(torch.tensor(0.5))\n",
    "        self.beta = nn.parameter(torch.tensor(1.0))\n"
   ]
  },
  {
   "cell_type": "code",
   "execution_count": null,
   "metadata": {},
   "outputs": [],
   "source": [
    "class Model(nn.Module):\n",
    "    def __init__(self, B, T, D, embed_dim, num_attention):\n",
    "        super(Model, self).__init__()\n",
    "\n",
    "        self.B = B\n",
    "        self.T = T\n",
    "        self.D = D\n",
    "        self.embed_dim = embed_dim\n",
    "        self.num_attention = num_attention\n",
    "\n",
    "        self.time_embedding = None\n",
    "        self.event_embedding = nn.Embedding(self.D, self.embed_dim)\n",
    "\n",
    "        AttnBlocks = []\n",
    "        for _ in range(num_attention):\n",
    "            AttnBlocks.append(AttnBlock())\n",
    "        \n",
    "        self.AttnBlocks = nn.ModuleList(AttnBlocks)\n",
    "\n",
    "        self.time_pred = nn.Linear(self.embed_dim, 1)\n",
    "        self.event_pred = nn.Linear(self.embed_dim, self.D)\n",
    "\n",
    "        ### Params\n",
    "        self.alpha = nn.parameter(torch.tensor(0.1))\n",
    "        self.beta = nn.parameter(torch.tensor(1.0))\n",
    "\n",
    "\n",
    "    def forward(self, time, event):\n",
    "        time_mask = self.create_time_mask()\n",
    "        Z = self.time_embedding(time)\n",
    "        UY = self.event_embedding(event)\n",
    "        UY = UY * time_mask\n",
    "        X = Z + UY\n",
    "        H = X\n",
    "        \n",
    "        for attn in self.AttnBlocks:\n",
    "            H = attn(H)\n",
    "            H += Z\n",
    "        \n",
    "        H -= Z \n",
    "\n",
    "        pred_t = self.time_pred(H)\n",
    "        pred_e = self.event_pred(H)\n",
    "\n",
    "        return H, pred_t, pred_e\n",
    "\n",
    "    def create_time_mask(self):\n",
    "        temp = torch.ones((self.B, self.T))\n",
    "        triu = torch.triu(temp, diagonal=1)\n",
    "        mask = triu.unsqueeze(2).expand(-1, -1, self.D)\n",
    "        return mask\n",
    "\n",
    "        \n",
    "\n",
    "\n",
    "\n",
    "\n"
   ]
  }
 ],
 "metadata": {
  "kernelspec": {
   "display_name": "Python 3.7.0 ('thawkes')",
   "language": "python",
   "name": "python3"
  },
  "language_info": {
   "codemirror_mode": {
    "name": "ipython",
    "version": 3
   },
   "file_extension": ".py",
   "mimetype": "text/x-python",
   "name": "python",
   "nbconvert_exporter": "python",
   "pygments_lexer": "ipython3",
   "version": "3.7.13"
  },
  "orig_nbformat": 4,
  "vscode": {
   "interpreter": {
    "hash": "e7e8107b524bbec170401f7de387f6ec47b21c83b213f24bbdfa3f4a79ad5ed3"
   }
  }
 },
 "nbformat": 4,
 "nbformat_minor": 2
}
