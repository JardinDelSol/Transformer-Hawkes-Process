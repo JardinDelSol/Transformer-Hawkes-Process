{
 "cells": [
  {
   "cell_type": "code",
   "execution_count": 3,
   "metadata": {},
   "outputs": [],
   "source": [
    "import numpy as np\n",
    "import matplotlib.pyplot as plt"
   ]
  },
  {
   "cell_type": "code",
   "execution_count": 4,
   "metadata": {},
   "outputs": [],
   "source": [
    "original = \"original.txt\"\n",
    "implementation = \"implementation.txt\""
   ]
  },
  {
   "cell_type": "code",
   "execution_count": null,
   "metadata": {},
   "outputs": [],
   "source": [
    "o = []\n",
    "i = []\n",
    "with open(original, \"r\") as f:\n",
    "    original_lines = f.readlines()\n",
    "    for l in original_lines:\n",
    "        if \"Epoch\" not in l:\n",
    "            l = l.split(\",\")\n",
    "            o.append(l[1:])\n",
    "\n",
    "with open(implementation, \"r\") as f:\n",
    "    implementaion_lines = f.readlines()\n",
    "    for l in implementaion_lines:\n",
    "        if \"Epoch\" not in l:\n",
    "            l = l.split(\",\")\n",
    "            i.append(l[1:])\n",
    "\n"
   ]
  },
  {
   "cell_type": "code",
   "execution_count": null,
   "metadata": {},
   "outputs": [],
   "source": [
    "plt.plot(o[0], c=\"r\", label=\"LL\")\n",
    "plt.plot(i[0], c=\"b\", label=\"LL\")\n",
    "plt.show()\n",
    "plt.close()"
   ]
  },
  {
   "cell_type": "code",
   "execution_count": null,
   "metadata": {},
   "outputs": [],
   "source": [
    "plt.plot(o[1], c=\"r\", label=\"Accuracy(event classification)\")\n",
    "plt.plot(i[1], c=\"b\", label=\"Accuracy(event classification)\")\n",
    "plt.show()\n",
    "plt.close()"
   ]
  },
  {
   "cell_type": "code",
   "execution_count": null,
   "metadata": {},
   "outputs": [],
   "source": [
    "plt.plot(o[2], c=\"r\", label=\"RMSE(time prediction)\")\n",
    "plt.plot(i[2], c=\"b\", label=\"RMSE(time prediction)\")\n",
    "plt.show()\n",
    "plt.close()"
   ]
  }
 ],
 "metadata": {
  "kernelspec": {
   "display_name": "Python 3.7.13 ('thawkes')",
   "language": "python",
   "name": "python3"
  },
  "language_info": {
   "codemirror_mode": {
    "name": "ipython",
    "version": 3
   },
   "file_extension": ".py",
   "mimetype": "text/x-python",
   "name": "python",
   "nbconvert_exporter": "python",
   "pygments_lexer": "ipython3",
   "version": "3.7.13"
  },
  "orig_nbformat": 4,
  "vscode": {
   "interpreter": {
    "hash": "e7e8107b524bbec170401f7de387f6ec47b21c83b213f24bbdfa3f4a79ad5ed3"
   }
  }
 },
 "nbformat": 4,
 "nbformat_minor": 2
}
